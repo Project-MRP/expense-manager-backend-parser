{
 "cells": [
  {
   "cell_type": "code",
   "execution_count": null,
   "metadata": {},
   "outputs": [],
   "source": [
    "!pip install \"camelot-py[cv]\" -q\n",
    "!pip install 'PyPDF2~=2.0'\n",
    "!apt-get install ghostscript\n",
    "!pip install pdfplumber\n",
    "!pip install pandas\n",
    "!pip install reportlab\n",
    "!pip install PyPDF2\n",
    "!pip install PyMuPDF\n",
    "!pip install tabula-py"
   ]
  },
  {
   "cell_type": "code",
   "execution_count": null,
   "metadata": {},
   "outputs": [],
   "source": [
    "import tabula\n",
    "import camelot\n",
    "from IPython.display import display\n",
    "import pandas as pd\n",
    "import json\n",
    "import numpy as np"
   ]
  },
  {
   "cell_type": "markdown",
   "metadata": {},
   "source": [
    "# Check the table coordinates"
   ]
  },
  {
   "cell_type": "code",
   "execution_count": null,
   "metadata": {},
   "outputs": [],
   "source": [
    "import camelot\n",
    "\n",
    "# Extract tables from the PDF using the 'stream' flavor\n",
    "tables = camelot.read_pdf('/content/Acct Statement_XX1544_12082024.pdf', flavor='stream', pages='1', columns=['93,281.1025000000001,351.1025,421.1025,529,571.446'])\n",
    "\n",
    "# Access the first table\n",
    "table = tables[0]\n",
    "\n",
    "# Iterate through the rows and cells to get x-coordinates\n",
    "for row in table.cells:\n",
    "    for cell in row:\n",
    "        # Each cell is a named tuple with various attributes, including x1 and x2\n",
    "        x1 = cell.x1  # The left x-coordinate of the cell\n",
    "        x2 = cell.x2  # The right x-coordinate of the cell\n",
    "        text = cell.text  # The text content of the cell\n",
    "\n",
    "        # Print the text and its corresponding x-coordinates\n",
    "        print(f'Text: {text}, x1: {x1}, x2: {x2}')"
   ]
  }
 ],
 "metadata": {
  "kernelspec": {
   "display_name": "kernel",
   "language": "python",
   "name": "kernel"
  }
 },
 "nbformat": 4,
 "nbformat_minor": 2
}
