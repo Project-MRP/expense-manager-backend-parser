{
 "cells": [
  {
   "cell_type": "markdown",
   "metadata": {},
   "source": [
    "# UBIN parser"
   ]
  },
  {
   "cell_type": "markdown",
   "metadata": {},
   "source": [
    "### Layer 1"
   ]
  },
  {
   "cell_type": "code",
   "execution_count": null,
   "metadata": {},
   "outputs": [],
   "source": [
    "tables = camelot.read_pdf('/content/drive/MyDrive/SampleBankPdfs/AC/Union-AC-Statement-p7.pdf', pages=\"all\", process_background=True)\n",
    "\n",
    "# extract table header and convert it to df\n",
    "table_header = pd.DataFrame([tables[0].df.iloc[0].tolist()], columns=tables[0].df.columns)\n",
    "\n",
    "df_tables = []\n",
    "\n",
    "for table in tables:\n",
    "  df_tables.append(table.df.iloc[1:])\n",
    "\n",
    "df_tables = pd.concat(df_tables, ignore_index=True)\n",
    "\n",
    "df = pd.concat([table_header, df_tables], ignore_index=True)\n",
    "\n",
    "\n",
    "# Set the first row as the new column names\n",
    "df.columns = df.iloc[0]\n",
    "\n",
    "# Drop the first row\n",
    "df = df[1:].reset_index(drop=True)\n",
    "\n",
    "# 4. Rename the columns\n",
    "df.rename(columns={'Tran Id': 'id', 'Tran Date':'date', 'Remarks': 'description', 'Amount (Rs.)':'amount', 'Balance (Rs.)':'balance'}, inplace=True)\n",
    "\n",
    "# Drop rows where specific columns have NaN values\n",
    "df = df.dropna(subset=['description', 'amount', 'balance'])\n",
    "\n",
    "# Dictionary of strings to replace\n",
    "replace_dict = {\n",
    "    '/': ' ',    # Replace forward slash with space\n",
    "    '\\n': ' ',   # Replace newline character with space\n",
    "    '@': ' at '  # Replace '@' with ' at ' (optional example)\n",
    "}\n",
    "\n",
    "# Replace multiple strings using the dictionary\n",
    "df['description'] = df['description'].replace(replace_dict, regex=True)\n",
    "\n",
    "df['date'] = pd.to_datetime(df['date'], format='%d/%m/%Y').dt.strftime('%Y-%m-%d')\n",
    "\n",
    "# Create the 'isDebit' column based on the presence of 'Dr' in the 'amount' column \n",
    "### (can add trxType as well)\n",
    "df['isDebit'] = df['amount'].str.contains('Dr', regex=False)\n",
    "\n",
    "# Remove any non-numeric characters (excluding periods and commas)\n",
    "df['amount'] = df['amount'].str.replace(r'[^\\d.]', '', regex=True).astype(float)\n",
    "\n",
    "# Convert the cleaned amount column to numeric type\n",
    "df['balance'] = pd.to_numeric(df['balance'])\n",
    "\n",
    "display(df)\n",
    "\n",
    "data_dict = df.to_dict(orient='records')\n",
    "json_data = json.dumps(data_dict, ensure_ascii=False).replace('\\\\/', '/').replace('NaN', 'null')\n",
    "\n",
    "print(json_data)"
   ]
  },
  {
   "cell_type": "markdown",
   "metadata": {},
   "source": [
    "### Layer 2"
   ]
  },
  {
   "cell_type": "code",
   "execution_count": null,
   "metadata": {},
   "outputs": [],
   "source": []
  }
 ],
 "metadata": {
  "kernelspec": {
   "display_name": "kernel",
   "language": "python",
   "name": "kernel"
  },
  "language_info": {
   "codemirror_mode": {
    "name": "ipython",
    "version": 3
   },
   "file_extension": ".py",
   "mimetype": "text/x-python",
   "name": "python",
   "nbconvert_exporter": "python",
   "pygments_lexer": "ipython3",
   "version": "3.9.6"
  }
 },
 "nbformat": 4,
 "nbformat_minor": 2
}
