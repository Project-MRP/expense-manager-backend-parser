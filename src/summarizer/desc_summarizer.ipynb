{
 "cells": [
  {
   "cell_type": "markdown",
   "metadata": {},
   "source": [
    "#### Description summarizer"
   ]
  },
  {
   "cell_type": "code",
   "execution_count": 2,
   "metadata": {},
   "outputs": [
    {
     "name": "stdout",
     "output_type": "stream",
     "text": [
      "RAGHAVENDRA K M MUTUAL FUND INVESTMENT\n"
     ]
    }
   ],
   "source": [
    "import spacy\n",
    "\n",
    "# Load the English model\n",
    "nlp = spacy.load(\"en_core_web_sm\")\n",
    "\n",
    "# List of keywords to exclude\n",
    "keywords_to_exclude = {\"UPI\", \"Bank\", \"NET\", \"BANK\", \"Payment\", \"PAYMENT\", \"P2M\", \"Yes\", \"NEFT\", \"DR\", \"CR\", \"MUM\"}\n",
    "\n",
    "def summarize_description(description):\n",
    "    doc = nlp(description)\n",
    "\n",
    "    # Extract named entities\n",
    "    entities = [ent.text for ent in doc.ents]\n",
    "\n",
    "    # Extract noun chunks\n",
    "    nouns = [chunk.text for chunk in doc.noun_chunks]\n",
    "\n",
    "    # Extract proper nouns (PROPN) and exclude specified keywords\n",
    "    proper_nouns = [\n",
    "        token.text for token in doc\n",
    "        if token.pos_ == \"PROPN\"\n",
    "        and token.text not in keywords_to_exclude\n",
    "        and not any(char.isdigit() for char in token.text)  # Exclude strings with numbers\n",
    "    ]\n",
    "    # print(\"entities: \" + str(entities))\n",
    "    # print(\"nouns: \" + str(nouns))\n",
    "    # print(\"proper_nouns: \" + str(proper_nouns))\n",
    "\n",
    "    if proper_nouns:\n",
    "        # If proper nouns are found, return them as the summary\n",
    "        summary_note = \" \".join(proper_nouns)\n",
    "        # summary_note = \" \".join(proper_nouns[:4])\n",
    "    else:\n",
    "        # Default summarization if no proper nouns are found\n",
    "        summary_note = \" \".join([token.text for token in doc if not token.is_stop and not token.is_punct])\n",
    "\n",
    "    # print(f\"Summary Note: {summary_note}\")\n",
    "    return \" \".join(proper_nouns) if proper_nouns else \"\"\n",
    "\n",
    "# Example transaction description\n",
    "description = \"UPI/P2M/360994847130/ARUN THAK/Yes Bank/Payment\"\n",
    "description1 = \"MB NEFT DR P219240341079906 RAGHAVENDRA K M SBIN0011291 40688305525 MUTUAL FUND INVESTMENT\"\n",
    "description2 = \"UPI/CR/459033982196/MITHUNG/HDFC/**FEB22@YBL/PAYMENT//YBL5625707364E34B09B556CCCB9F87FE6A/11/08/202423:20:53\"\n",
    "description3 = \"NACH INDIANCLEARINGCORP YN9XZNQKUZPH CNRB7030702244001099\"\n",
    "description4 = \"NEFT DR-SBIN0014517-BINAY KUMAR SHAW-NET, BANK, MUM-N222160177190622\"\n",
    "description5 = \"50100529373291-TPT-JULY CAR EMI-GOPIKRISHNA DAS\"\n",
    "description6 = \"UPI-AFSANA-PAYTMQRPZ1UDW8HUU@PAYTM-YESB0, PTMUPI-421625738999-PAYMENT FROM PHONE\"\n",
    "description7 = \"UPI-CARATLANE A TANISHQ-DIGIGOLDCARATLA, NE@YBL-YESB0YBLUPI-421698116834-GOLD WIL, L BE PURCH\"\n",
    "description8 = \"UPI-SATISH MAHENDRA PAN-SATISHPANCHAL65, 1@OKSBI-SBIN0018360-421727965746-BADMINTON\"\n",
    "description9 = \"UPI-LEO SPORTS-Q370307376@YBL-YESB0YBLUP, I-458382538714-PAYMENT FROM PHONE\"\n",
    "\n",
    "summary = summarize_description(description1)\n",
    "print(summary)"
   ]
  },
  {
   "cell_type": "markdown",
   "metadata": {},
   "source": [
    "#### Add a new column (note) by summarizing the description colum"
   ]
  },
  {
   "cell_type": "code",
   "execution_count": null,
   "metadata": {},
   "outputs": [],
   "source": [
    "import pandas as pd\n",
    "from IPython.display import display\n",
    "\n",
    "csv_path = \"/content/drive/MyDrive/SampleBankPdfs/outputs/hdfc_camelot_stream.csv\"\n",
    "\n",
    "df = pd.read_csv(csv_path)\n",
    "\n",
    "# print(df)\n",
    "\n",
    "df['note'] = df['Narration'].apply(summarize_description)\n",
    "\n",
    "display(df)\n",
    "\n",
    "df.to_csv('/content/drive/MyDrive/SampleBankPdfs/outputs/hdfc_summarized.csv', index=False)"
   ]
  }
 ],
 "metadata": {
  "kernelspec": {
   "display_name": "kernel",
   "language": "python",
   "name": "kernel"
  },
  "language_info": {
   "codemirror_mode": {
    "name": "ipython",
    "version": 3
   },
   "file_extension": ".py",
   "mimetype": "text/x-python",
   "name": "python",
   "nbconvert_exporter": "python",
   "pygments_lexer": "ipython3",
   "version": "3.9.6"
  }
 },
 "nbformat": 4,
 "nbformat_minor": 2
}
